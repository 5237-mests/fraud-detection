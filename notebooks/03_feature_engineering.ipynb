{
 "cells": [
  {
   "cell_type": "markdown",
   "id": "cd3a9d5a",
   "metadata": {},
   "source": [
    "# Feature Engineering"
   ]
  },
  {
   "cell_type": "code",
   "execution_count": 1,
   "id": "959827e2",
   "metadata": {},
   "outputs": [],
   "source": [
    "# Load datasets\n",
    "import pandas as pd\n",
    "\n",
    "fraud_df = pd.read_csv('../data/processed/fraud_with_country.csv')\n"
   ]
  },
  {
   "cell_type": "code",
   "execution_count": 3,
   "id": "209aa038",
   "metadata": {},
   "outputs": [
    {
     "data": {
      "text/html": [
       "<div>\n",
       "<style scoped>\n",
       "    .dataframe tbody tr th:only-of-type {\n",
       "        vertical-align: middle;\n",
       "    }\n",
       "\n",
       "    .dataframe tbody tr th {\n",
       "        vertical-align: top;\n",
       "    }\n",
       "\n",
       "    .dataframe thead th {\n",
       "        text-align: right;\n",
       "    }\n",
       "</style>\n",
       "<table border=\"1\" class=\"dataframe\">\n",
       "  <thead>\n",
       "    <tr style=\"text-align: right;\">\n",
       "      <th></th>\n",
       "      <th>user_id</th>\n",
       "      <th>signup_time</th>\n",
       "      <th>purchase_time</th>\n",
       "      <th>purchase_value</th>\n",
       "      <th>device_id</th>\n",
       "      <th>source</th>\n",
       "      <th>browser</th>\n",
       "      <th>sex</th>\n",
       "      <th>age</th>\n",
       "      <th>ip_address</th>\n",
       "      <th>class</th>\n",
       "      <th>country</th>\n",
       "    </tr>\n",
       "  </thead>\n",
       "  <tbody>\n",
       "    <tr>\n",
       "      <th>0</th>\n",
       "      <td>22058</td>\n",
       "      <td>2015-02-24 22:55:49</td>\n",
       "      <td>2015-04-18 02:47:11</td>\n",
       "      <td>34</td>\n",
       "      <td>QVPSPJUOCKZAR</td>\n",
       "      <td>SEO</td>\n",
       "      <td>Chrome</td>\n",
       "      <td>M</td>\n",
       "      <td>39</td>\n",
       "      <td>732758368</td>\n",
       "      <td>0</td>\n",
       "      <td>Japan</td>\n",
       "    </tr>\n",
       "    <tr>\n",
       "      <th>1</th>\n",
       "      <td>333320</td>\n",
       "      <td>2015-06-07 20:39:50</td>\n",
       "      <td>2015-06-08 01:38:54</td>\n",
       "      <td>16</td>\n",
       "      <td>EOGFQPIZPYXFZ</td>\n",
       "      <td>Ads</td>\n",
       "      <td>Chrome</td>\n",
       "      <td>F</td>\n",
       "      <td>53</td>\n",
       "      <td>350311387</td>\n",
       "      <td>0</td>\n",
       "      <td>United States</td>\n",
       "    </tr>\n",
       "    <tr>\n",
       "      <th>2</th>\n",
       "      <td>1359</td>\n",
       "      <td>2015-01-01 18:52:44</td>\n",
       "      <td>2015-01-01 18:52:45</td>\n",
       "      <td>15</td>\n",
       "      <td>YSSKYOSJHPPLJ</td>\n",
       "      <td>SEO</td>\n",
       "      <td>Opera</td>\n",
       "      <td>M</td>\n",
       "      <td>53</td>\n",
       "      <td>2621473820</td>\n",
       "      <td>1</td>\n",
       "      <td>United States</td>\n",
       "    </tr>\n",
       "    <tr>\n",
       "      <th>3</th>\n",
       "      <td>150084</td>\n",
       "      <td>2015-04-28 21:13:25</td>\n",
       "      <td>2015-05-04 13:54:50</td>\n",
       "      <td>44</td>\n",
       "      <td>ATGTXKYKUDUQN</td>\n",
       "      <td>SEO</td>\n",
       "      <td>Safari</td>\n",
       "      <td>M</td>\n",
       "      <td>41</td>\n",
       "      <td>3840542443</td>\n",
       "      <td>0</td>\n",
       "      <td>Unknown</td>\n",
       "    </tr>\n",
       "    <tr>\n",
       "      <th>4</th>\n",
       "      <td>221365</td>\n",
       "      <td>2015-07-21 07:09:52</td>\n",
       "      <td>2015-09-09 18:40:53</td>\n",
       "      <td>39</td>\n",
       "      <td>NAUITBZFJKHWW</td>\n",
       "      <td>Ads</td>\n",
       "      <td>Safari</td>\n",
       "      <td>M</td>\n",
       "      <td>45</td>\n",
       "      <td>415583117</td>\n",
       "      <td>0</td>\n",
       "      <td>United States</td>\n",
       "    </tr>\n",
       "  </tbody>\n",
       "</table>\n",
       "</div>"
      ],
      "text/plain": [
       "   user_id          signup_time        purchase_time  purchase_value  \\\n",
       "0    22058  2015-02-24 22:55:49  2015-04-18 02:47:11              34   \n",
       "1   333320  2015-06-07 20:39:50  2015-06-08 01:38:54              16   \n",
       "2     1359  2015-01-01 18:52:44  2015-01-01 18:52:45              15   \n",
       "3   150084  2015-04-28 21:13:25  2015-05-04 13:54:50              44   \n",
       "4   221365  2015-07-21 07:09:52  2015-09-09 18:40:53              39   \n",
       "\n",
       "       device_id source browser sex  age  ip_address  class        country  \n",
       "0  QVPSPJUOCKZAR    SEO  Chrome   M   39   732758368      0          Japan  \n",
       "1  EOGFQPIZPYXFZ    Ads  Chrome   F   53   350311387      0  United States  \n",
       "2  YSSKYOSJHPPLJ    SEO   Opera   M   53  2621473820      1  United States  \n",
       "3  ATGTXKYKUDUQN    SEO  Safari   M   41  3840542443      0        Unknown  \n",
       "4  NAUITBZFJKHWW    Ads  Safari   M   45   415583117      0  United States  "
      ]
     },
     "execution_count": 3,
     "metadata": {},
     "output_type": "execute_result"
    }
   ],
   "source": [
    "fraud_df.head()"
   ]
  },
  {
   "cell_type": "markdown",
   "id": "789b1f93",
   "metadata": {},
   "source": [
    "🔹 1. Extract hour_of_day & day_of_week"
   ]
  },
  {
   "cell_type": "code",
   "execution_count": 4,
   "id": "dfecd0c0",
   "metadata": {},
   "outputs": [],
   "source": [
    "# format purchase_time as datetime\n",
    "fraud_df['purchase_time'] = pd.to_datetime(fraud_df['purchase_time'], format='%Y-%m-%d %H:%M:%S')"
   ]
  },
  {
   "cell_type": "code",
   "execution_count": 7,
   "id": "8970cc1e",
   "metadata": {},
   "outputs": [],
   "source": [
    "# format signnup_time as datetime\n",
    "fraud_df['signup_time'] = pd.to_datetime(fraud_df['signup_time'], format='%Y-%m-%d %H:%M:%S')"
   ]
  },
  {
   "cell_type": "code",
   "execution_count": 5,
   "id": "da3b6039",
   "metadata": {},
   "outputs": [],
   "source": [
    "fraud_df['hour_of_day'] = fraud_df['purchase_time'].dt.hour\n",
    "fraud_df['day_of_week'] = fraud_df['purchase_time'].dt.dayofweek  # Monday = 0"
   ]
  },
  {
   "cell_type": "markdown",
   "id": "09d13029",
   "metadata": {},
   "source": [
    "🔹 2. Calculate time_since_signup"
   ]
  },
  {
   "cell_type": "code",
   "execution_count": 8,
   "id": "a68149aa",
   "metadata": {},
   "outputs": [],
   "source": [
    "fraud_df['time_since_signup'] = (fraud_df['purchase_time'] - fraud_df['signup_time']).dt.total_seconds()"
   ]
  },
  {
   "cell_type": "markdown",
   "id": "81d7e1ba",
   "metadata": {},
   "source": [
    "🔹 3. Transaction count per user"
   ]
  },
  {
   "cell_type": "code",
   "execution_count": 9,
   "id": "2347e007",
   "metadata": {},
   "outputs": [],
   "source": [
    "fraud_df['user_txn_count'] = fraud_df.groupby('user_id')['user_id'].transform('count')"
   ]
  },
  {
   "cell_type": "markdown",
   "id": "f5efe9e6",
   "metadata": {},
   "source": [
    "🔹 4. Unique devices per user"
   ]
  },
  {
   "cell_type": "code",
   "execution_count": 10,
   "id": "877ec4dd",
   "metadata": {},
   "outputs": [],
   "source": [
    "device_counts = fraud_df.groupby('user_id')['device_id'].nunique().reset_index(name='user_device_count')\n",
    "fraud_df = fraud_df.merge(device_counts, on='user_id', how='left')"
   ]
  },
  {
   "cell_type": "markdown",
   "id": "2fc47642",
   "metadata": {},
   "source": [
    "💾 Save new version"
   ]
  },
  {
   "cell_type": "code",
   "execution_count": 11,
   "id": "629e985b",
   "metadata": {},
   "outputs": [],
   "source": [
    "fraud_df.to_csv('../data/processed/fraud_features.csv', index=False)"
   ]
  },
  {
   "cell_type": "code",
   "execution_count": 12,
   "id": "fde253d0",
   "metadata": {},
   "outputs": [
    {
     "data": {
      "text/html": [
       "<div>\n",
       "<style scoped>\n",
       "    .dataframe tbody tr th:only-of-type {\n",
       "        vertical-align: middle;\n",
       "    }\n",
       "\n",
       "    .dataframe tbody tr th {\n",
       "        vertical-align: top;\n",
       "    }\n",
       "\n",
       "    .dataframe thead th {\n",
       "        text-align: right;\n",
       "    }\n",
       "</style>\n",
       "<table border=\"1\" class=\"dataframe\">\n",
       "  <thead>\n",
       "    <tr style=\"text-align: right;\">\n",
       "      <th></th>\n",
       "      <th>user_id</th>\n",
       "      <th>signup_time</th>\n",
       "      <th>purchase_time</th>\n",
       "      <th>purchase_value</th>\n",
       "      <th>device_id</th>\n",
       "      <th>source</th>\n",
       "      <th>browser</th>\n",
       "      <th>sex</th>\n",
       "      <th>age</th>\n",
       "      <th>ip_address</th>\n",
       "      <th>class</th>\n",
       "      <th>country</th>\n",
       "      <th>hour_of_day</th>\n",
       "      <th>day_of_week</th>\n",
       "      <th>time_since_signup</th>\n",
       "      <th>user_txn_count</th>\n",
       "      <th>user_device_count</th>\n",
       "    </tr>\n",
       "  </thead>\n",
       "  <tbody>\n",
       "    <tr>\n",
       "      <th>0</th>\n",
       "      <td>22058</td>\n",
       "      <td>2015-02-24 22:55:49</td>\n",
       "      <td>2015-04-18 02:47:11</td>\n",
       "      <td>34</td>\n",
       "      <td>QVPSPJUOCKZAR</td>\n",
       "      <td>SEO</td>\n",
       "      <td>Chrome</td>\n",
       "      <td>M</td>\n",
       "      <td>39</td>\n",
       "      <td>732758368</td>\n",
       "      <td>0</td>\n",
       "      <td>Japan</td>\n",
       "      <td>2</td>\n",
       "      <td>5</td>\n",
       "      <td>4506682.0</td>\n",
       "      <td>1</td>\n",
       "      <td>1</td>\n",
       "    </tr>\n",
       "    <tr>\n",
       "      <th>1</th>\n",
       "      <td>333320</td>\n",
       "      <td>2015-06-07 20:39:50</td>\n",
       "      <td>2015-06-08 01:38:54</td>\n",
       "      <td>16</td>\n",
       "      <td>EOGFQPIZPYXFZ</td>\n",
       "      <td>Ads</td>\n",
       "      <td>Chrome</td>\n",
       "      <td>F</td>\n",
       "      <td>53</td>\n",
       "      <td>350311387</td>\n",
       "      <td>0</td>\n",
       "      <td>United States</td>\n",
       "      <td>1</td>\n",
       "      <td>0</td>\n",
       "      <td>17944.0</td>\n",
       "      <td>1</td>\n",
       "      <td>1</td>\n",
       "    </tr>\n",
       "    <tr>\n",
       "      <th>2</th>\n",
       "      <td>1359</td>\n",
       "      <td>2015-01-01 18:52:44</td>\n",
       "      <td>2015-01-01 18:52:45</td>\n",
       "      <td>15</td>\n",
       "      <td>YSSKYOSJHPPLJ</td>\n",
       "      <td>SEO</td>\n",
       "      <td>Opera</td>\n",
       "      <td>M</td>\n",
       "      <td>53</td>\n",
       "      <td>2621473820</td>\n",
       "      <td>1</td>\n",
       "      <td>United States</td>\n",
       "      <td>18</td>\n",
       "      <td>3</td>\n",
       "      <td>1.0</td>\n",
       "      <td>1</td>\n",
       "      <td>1</td>\n",
       "    </tr>\n",
       "    <tr>\n",
       "      <th>3</th>\n",
       "      <td>150084</td>\n",
       "      <td>2015-04-28 21:13:25</td>\n",
       "      <td>2015-05-04 13:54:50</td>\n",
       "      <td>44</td>\n",
       "      <td>ATGTXKYKUDUQN</td>\n",
       "      <td>SEO</td>\n",
       "      <td>Safari</td>\n",
       "      <td>M</td>\n",
       "      <td>41</td>\n",
       "      <td>3840542443</td>\n",
       "      <td>0</td>\n",
       "      <td>Unknown</td>\n",
       "      <td>13</td>\n",
       "      <td>0</td>\n",
       "      <td>492085.0</td>\n",
       "      <td>1</td>\n",
       "      <td>1</td>\n",
       "    </tr>\n",
       "    <tr>\n",
       "      <th>4</th>\n",
       "      <td>221365</td>\n",
       "      <td>2015-07-21 07:09:52</td>\n",
       "      <td>2015-09-09 18:40:53</td>\n",
       "      <td>39</td>\n",
       "      <td>NAUITBZFJKHWW</td>\n",
       "      <td>Ads</td>\n",
       "      <td>Safari</td>\n",
       "      <td>M</td>\n",
       "      <td>45</td>\n",
       "      <td>415583117</td>\n",
       "      <td>0</td>\n",
       "      <td>United States</td>\n",
       "      <td>18</td>\n",
       "      <td>2</td>\n",
       "      <td>4361461.0</td>\n",
       "      <td>1</td>\n",
       "      <td>1</td>\n",
       "    </tr>\n",
       "  </tbody>\n",
       "</table>\n",
       "</div>"
      ],
      "text/plain": [
       "   user_id         signup_time       purchase_time  purchase_value  \\\n",
       "0    22058 2015-02-24 22:55:49 2015-04-18 02:47:11              34   \n",
       "1   333320 2015-06-07 20:39:50 2015-06-08 01:38:54              16   \n",
       "2     1359 2015-01-01 18:52:44 2015-01-01 18:52:45              15   \n",
       "3   150084 2015-04-28 21:13:25 2015-05-04 13:54:50              44   \n",
       "4   221365 2015-07-21 07:09:52 2015-09-09 18:40:53              39   \n",
       "\n",
       "       device_id source browser sex  age  ip_address  class        country  \\\n",
       "0  QVPSPJUOCKZAR    SEO  Chrome   M   39   732758368      0          Japan   \n",
       "1  EOGFQPIZPYXFZ    Ads  Chrome   F   53   350311387      0  United States   \n",
       "2  YSSKYOSJHPPLJ    SEO   Opera   M   53  2621473820      1  United States   \n",
       "3  ATGTXKYKUDUQN    SEO  Safari   M   41  3840542443      0        Unknown   \n",
       "4  NAUITBZFJKHWW    Ads  Safari   M   45   415583117      0  United States   \n",
       "\n",
       "   hour_of_day  day_of_week  time_since_signup  user_txn_count  \\\n",
       "0            2            5          4506682.0               1   \n",
       "1            1            0            17944.0               1   \n",
       "2           18            3                1.0               1   \n",
       "3           13            0           492085.0               1   \n",
       "4           18            2          4361461.0               1   \n",
       "\n",
       "   user_device_count  \n",
       "0                  1  \n",
       "1                  1  \n",
       "2                  1  \n",
       "3                  1  \n",
       "4                  1  "
      ]
     },
     "execution_count": 12,
     "metadata": {},
     "output_type": "execute_result"
    }
   ],
   "source": [
    "fraud_df.head()"
   ]
  },
  {
   "cell_type": "markdown",
   "id": "b8c3f701",
   "metadata": {},
   "source": [
    "### Data Transformation"
   ]
  },
  {
   "cell_type": "markdown",
   "id": "e41a433e",
   "metadata": {},
   "source": []
  },
  {
   "cell_type": "code",
   "execution_count": 1,
   "id": "e6519f48",
   "metadata": {},
   "outputs": [],
   "source": [
    "# 📌 1. Imports\n",
    "import pandas as pd\n",
    "import numpy as np\n",
    "from sklearn.model_selection import train_test_split\n",
    "from imblearn.over_sampling import SMOTE\n",
    "from sklearn.preprocessing import StandardScaler, OneHotEncoder\n",
    "import joblib"
   ]
  },
  {
   "cell_type": "code",
   "execution_count": 2,
   "id": "5088e21c",
   "metadata": {},
   "outputs": [],
   "source": [
    "# 📌 2. Load data\n",
    "fraud_df = pd.read_csv('../data/processed/fraud_features.csv')"
   ]
  },
  {
   "cell_type": "code",
   "execution_count": 3,
   "id": "3a9f8032",
   "metadata": {},
   "outputs": [],
   "source": [
    "# 📌 3. Separate features and target\n",
    "X = fraud_df.drop(columns=['class'])\n",
    "y = fraud_df['class']"
   ]
  },
  {
   "cell_type": "code",
   "execution_count": 32,
   "id": "a0f63583",
   "metadata": {},
   "outputs": [],
   "source": [
    "# 📌 4. Train-test split (Important: stratify by class)\n",
    "X_train, X_test, y_train, y_test = train_test_split(\n",
    "    X, y, test_size=0.2, stratify=y, random_state=42\n",
    ")"
   ]
  },
  {
   "cell_type": "code",
   "execution_count": 33,
   "id": "65fffbcf",
   "metadata": {},
   "outputs": [
    {
     "name": "stdout",
     "output_type": "stream",
     "text": [
      "Before SMOTE: class\n",
      "0    0.906352\n",
      "1    0.093648\n",
      "Name: proportion, dtype: float64\n"
     ]
    }
   ],
   "source": [
    "# Check class balance before SMOTE\n",
    "print(\"Before SMOTE:\", y_train.value_counts(normalize=True))"
   ]
  },
  {
   "cell_type": "code",
   "execution_count": null,
   "id": "c88da59c",
   "metadata": {},
   "outputs": [],
   "source": [
    "# 📌 5. Apply SMOTE to training data\n",
    "from imblearn.over_sampling import SMOTE\n",
    "\n",
    "# Separate columns\n",
    "categorical_cols = ['source', 'browser', 'sex', 'country', 'hour_of_day', 'day_of_week']\n",
    "numeric_cols = ['purchase_value', 'age', 'time_since_signup', 'user_txn_count', 'user_device_count']\n",
    "\n",
    "# Reset indices to avoid mismatch\n",
    "X_train = X_train.reset_index(drop=True)\n",
    "y_train = y_train.reset_index(drop=True)\n",
    "\n",
    "X_train_num = X_train[numeric_cols]\n",
    "X_train_cat = X_train[categorical_cols]\n",
    "\n",
    "# Apply SMOTE to numeric features only\n",
    "smote = SMOTE(random_state=42)\n",
    "X_train_num_resampled, y_train_resampled = smote.fit_resample(X_train_num, y_train)\n",
    "\n",
    "# Figure out how many new rows were added\n",
    "num_original = len(X_train)\n",
    "num_resampled = len(X_train_num_resampled)\n",
    "num_synthetic = num_resampled - num_original\n",
    "\n",
    "# Duplicate categorical rows accordingly\n",
    "X_train_cat_resampled = pd.concat([\n",
    "    X_train_cat,  # original\n",
    "    X_train_cat.sample(n=num_synthetic, replace=True, random_state=42)  # synthetic\n",
    "], ignore_index=True)\n",
    "\n",
    "# Merge numeric + categorical\n",
    "X_train_resampled = pd.concat([X_train_num_resampled, X_train_cat_resampled], axis=1)\n"
   ]
  },
  {
   "cell_type": "code",
   "execution_count": 37,
   "id": "7092eebc",
   "metadata": {},
   "outputs": [],
   "source": [
    "# 📌 6. Scale numeric columns\n",
    "numeric_cols = ['purchase_value', 'age', 'time_since_signup', 'user_txn_count', 'user_device_count']\n",
    "scaler = StandardScaler()\n",
    "\n",
    "X_train_resampled[numeric_cols] = scaler.fit_transform(X_train_resampled[numeric_cols])\n",
    "X_test[numeric_cols] = scaler.transform(X_test[numeric_cols])"
   ]
  },
  {
   "cell_type": "code",
   "execution_count": 38,
   "id": "81fb3fd5",
   "metadata": {},
   "outputs": [
    {
     "name": "stderr",
     "output_type": "stream",
     "text": [
      "c:\\ME\\KAIM\\week8\\fraud-detection\\week8\\Lib\\site-packages\\sklearn\\preprocessing\\_encoders.py:246: UserWarning: Found unknown categories in columns [3] during transform. These unknown categories will be encoded as all zeros\n",
      "  warnings.warn(\n"
     ]
    }
   ],
   "source": [
    "# 📌 7. Encode categorical features\n",
    "categorical_cols = ['source', 'browser', 'sex', 'country', 'hour_of_day', 'day_of_week']\n",
    "encoder = OneHotEncoder(drop='first', sparse_output=False, handle_unknown='ignore')\n",
    "\n",
    "# Fit encoder on train\n",
    "encoded_train = encoder.fit_transform(X_train_resampled[categorical_cols])\n",
    "encoded_test = encoder.transform(X_test[categorical_cols])"
   ]
  },
  {
   "cell_type": "code",
   "execution_count": 39,
   "id": "a9fa6471",
   "metadata": {},
   "outputs": [],
   "source": [
    "# 📌 8. Combine encoded features with numeric ones\n",
    "encoded_col_names = encoder.get_feature_names_out(categorical_cols)\n",
    "\n",
    "X_train_final = pd.concat([\n",
    "    X_train_resampled.drop(columns=categorical_cols).reset_index(drop=True),\n",
    "    pd.DataFrame(encoded_train, columns=encoded_col_names)\n",
    "], axis=1)\n",
    "\n",
    "X_test_final = pd.concat([\n",
    "    X_test.drop(columns=categorical_cols).reset_index(drop=True),\n",
    "    pd.DataFrame(encoded_test, columns=encoded_col_names)\n",
    "], axis=1)"
   ]
  },
  {
   "cell_type": "code",
   "execution_count": 40,
   "id": "35223df4",
   "metadata": {},
   "outputs": [
    {
     "name": "stdout",
     "output_type": "stream",
     "text": [
      "✅ Feature engineering and data transformation complete!\n"
     ]
    }
   ],
   "source": [
    "# 📌 9. Save final datasets\n",
    "X_train_final.to_csv('../data/processed/X_train_final.csv', index=False)\n",
    "X_test_final.to_csv('../data/processed/X_test_final.csv', index=False)\n",
    "y_train_resampled.to_csv('../data/processed/y_train_final.csv', index=False)\n",
    "y_test.to_csv('../data/processed/y_test.csv', index=False)\n",
    "\n",
    "# Optional: Save the scaler and encoder for reuse\n",
    "joblib.dump(scaler, '../data/processed/scaler.pkl')\n",
    "joblib.dump(encoder, '../data/processed/encoder.pkl')\n",
    "\n",
    "print(\"✅ Feature engineering and data transformation complete!\")\n"
   ]
  }
 ],
 "metadata": {
  "kernelspec": {
   "display_name": "week8",
   "language": "python",
   "name": "python3"
  },
  "language_info": {
   "codemirror_mode": {
    "name": "ipython",
    "version": 3
   },
   "file_extension": ".py",
   "mimetype": "text/x-python",
   "name": "python",
   "nbconvert_exporter": "python",
   "pygments_lexer": "ipython3",
   "version": "3.13.2"
  }
 },
 "nbformat": 4,
 "nbformat_minor": 5
}
