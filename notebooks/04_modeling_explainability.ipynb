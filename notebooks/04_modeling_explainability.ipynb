{
 "cells": [
  {
   "cell_type": "markdown",
   "id": "4e017210",
   "metadata": {},
   "source": [
    "# SHAP"
   ]
  },
  {
   "cell_type": "code",
   "execution_count": 1,
   "id": "4d279e2a",
   "metadata": {},
   "outputs": [
    {
     "name": "stderr",
     "output_type": "stream",
     "text": [
      "c:\\ME\\KAIM\\week8\\fraud-detection\\week8\\Lib\\site-packages\\tqdm\\auto.py:21: TqdmWarning: IProgress not found. Please update jupyter and ipywidgets. See https://ipywidgets.readthedocs.io/en/stable/user_install.html\n",
      "  from .autonotebook import tqdm as notebook_tqdm\n"
     ]
    }
   ],
   "source": [
    "import shap\n",
    "import pandas as pd\n",
    "import matplotlib.pyplot as plt"
   ]
  },
  {
   "cell_type": "code",
   "execution_count": 2,
   "id": "05bda7de",
   "metadata": {},
   "outputs": [],
   "source": [
    "# Load the best model (Random Forest)\n",
    "import joblib\n",
    "rf_model = joblib.load('../models/fraud_rf_pipeline.joblib')"
   ]
  },
  {
   "cell_type": "code",
   "execution_count": 3,
   "id": "02badbcd",
   "metadata": {},
   "outputs": [],
   "source": [
    "# import the dataset\n",
    "x_train = pd.read_csv('../data/processed/x_train_final.csv')"
   ]
  },
  {
   "cell_type": "code",
   "execution_count": 4,
   "id": "2cf6b05a",
   "metadata": {},
   "outputs": [],
   "source": [
    "# Select a small sample from X_test for faster computation\n",
    "X_sample = x_train.sample(3, random_state=42)"
   ]
  },
  {
   "cell_type": "code",
   "execution_count": 5,
   "id": "4bbd2236",
   "metadata": {},
   "outputs": [],
   "source": [
    "# Extract the classifier from the pipeline\n",
    "rf_clf = rf_model.named_steps[\"classifier\"]  # just the trained RandomForest"
   ]
  },
  {
   "cell_type": "code",
   "execution_count": 6,
   "id": "a4749583",
   "metadata": {},
   "outputs": [
    {
     "name": "stdout",
     "output_type": "stream",
     "text": [
      "Model: RandomForestClassifier(class_weight='balanced', random_state=42)\n"
     ]
    }
   ],
   "source": [
    "print(f\"Model: {rf_clf}\")"
   ]
  },
  {
   "cell_type": "code",
   "execution_count": 7,
   "id": "a6ca8b4a",
   "metadata": {},
   "outputs": [],
   "source": [
    "# Use TreeExplainer (recommended for tree-based models like RF)\n",
    "# explainer = shap.TreeExplainer(rf_clf, x_train, model_output=\"raw\", feature_perturbation=\"tree_path_dependent\")\n",
    "explainer = shap.TreeExplainer(rf_clf)"
   ]
  },
  {
   "cell_type": "code",
   "execution_count": 8,
   "id": "9263b98f",
   "metadata": {},
   "outputs": [],
   "source": [
    "# Compute SHAP values\n",
    "shap_values = explainer.shap_values(X_sample, check_additivity=False)"
   ]
  },
  {
   "cell_type": "code",
   "execution_count": null,
   "id": "d5c66bc2",
   "metadata": {},
   "outputs": [],
   "source": [
    "# Plot SHAP summary\n",
    "shap.summary_plot(shap_values[1], X_sample, feature_names=X_sample.columns)"
   ]
  },
  {
   "cell_type": "markdown",
   "id": "385ed877",
   "metadata": {},
   "source": [
    "---"
   ]
  },
  {
   "cell_type": "code",
   "execution_count": null,
   "id": "1d8ab05f",
   "metadata": {},
   "outputs": [],
   "source": [
    "# Summary Plot\n",
    "plt.figure()\n",
    "shap.summary_plot(shap_values[1], X_test_transformed, feature_names=feature_names, show=False)\n",
    "plt.title(\"SHAP Summary Plot - Fraud Class\")\n",
    "plt.tight_layout()\n",
    "plt.savefig(\"../figures/shap_summary_plot.png\")\n",
    "plt.close()\n",
    "\n",
    "# Force Plot for a single instance (first fraud case)\n",
    "fraud_idx = y_test[X_test.index][X_test_sample.index].index[y_test[X_test_sample.index] == 1][0]\n",
    "fraud_sample = X_test_transformed[X_test_sample.index.get_loc(fraud_idx)]\n",
    "plt.figure()\n",
    "shap.force_plot(explainer.expected_value[1], shap_values[1][X_test_sample.index.get_loc(fraud_idx)], fraud_sample, \n",
    "                feature_names=feature_names, matplotlib=True, show=False)\n",
    "plt.title(\"SHAP Force Plot - Fraud Case\")\n",
    "plt.tight_layout()\n",
    "plt.savefig(\"../figures/shap_force_plot.png\")\n",
    "plt.close()\n",
    "\n",
    "# Save pipeline\n",
    "joblib.dump(pipeline, \"../models/fraud_rf_pipeline.joblib\")\n",
    "\n",
    "# Save feature names for FastAPI input validation\n",
    "feature_names_input = X_train.columns.tolist()\n",
    "joblib.dump(feature_names_input, \"../models/feature_names.joblib\")\n",
    "\n",
    "# Generate SHAP report\n",
    "with open(\"../reports/shap_report.txt\", \"w\") as f:\n",
    "    f.write(\"SHAP Analysis Report for Fraud Detection\\n\")\n",
    "    f.write(\"=\" * 40 + \"\\n\\n\")\n",
    "    f.write(\"1. Model Performance\\n\")\n",
    "    f.write(f\"F1 Score: {f1_score(y_test, y_pred):.3f}\\n\")\n",
    "    f.write(f\"AUC-PR: {average_precision_score(y_test, y_proba):.3f}\\n\")\n",
    "    f.write(\"Classification Report:\\n\")\n",
    "    f.write(classification_report(y_test, y_pred) + \"\\n\")\n",
    "    f.write(\"\\n2. Global Feature Importance (SHAP Summary Plot)\\n\")\n",
    "    f.write(\"The SHAP Summary Plot (saved as ../figures/shap_summary_plot.png) shows the impact of each feature on fraud predictions:\\n\")\n",
    "    f.write(\"- Features are ranked by their mean absolute SHAP values, indicating their overall importance.\\n\")\n",
    "    f.write(\"- Red indicates higher feature values, blue indicates lower values.\\n\")\n",
    "    f.write(\"- Positive SHAP values push predictions toward fraud (class=1), negative toward non-fraud (class=0).\\n\")\n",
    "    f.write(\"\\n3. Local Feature Importance (SHAP Force Plot)\\n\")\n",
    "    f.write(f\"The SHAP Force Plot (saved as ../figures/shap_force_plot.png) explains a single fraud case (index {fraud_idx}):\\n\")\n",
    "    f.write(\"- Features with positive SHAP values increase the likelihood of fraud.\\n\")\n",
    "    f.write(\"- Features with negative SHAP values decrease the likelihood.\\n\")\n",
    "    f.write(\"\\n4. Key Drivers of Fraud (Based on SHAP Values)\\n\")\n",
    "    shap_importance = pd.DataFrame({\n",
    "        'feature': feature_names,\n",
    "        'mean_abs_shap': np.abs(shap_values[1]).mean(axis=0)\n",
    "    }).sort_values('mean_abs_shap', ascending=False)\n",
    "    f.write(\"Top 5 features driving fraud predictions:\\n\")\n",
    "    for i, row in shap_importance.head(5).iterrows():\n",
    "        f.write(f\"- {row['feature']}: Mean |SHAP| = {row['mean_abs_shap']:.3f}\\n\")\n",
    "    f.write(\"\\nSee ../figures/shap_summary_plot.png and ../figures/shap_force_plot.png for visualizations.\")"
   ]
  }
 ],
 "metadata": {
  "kernelspec": {
   "display_name": "week8",
   "language": "python",
   "name": "python3"
  },
  "language_info": {
   "codemirror_mode": {
    "name": "ipython",
    "version": 3
   },
   "file_extension": ".py",
   "mimetype": "text/x-python",
   "name": "python",
   "nbconvert_exporter": "python",
   "pygments_lexer": "ipython3",
   "version": "3.13.2"
  }
 },
 "nbformat": 4,
 "nbformat_minor": 5
}
